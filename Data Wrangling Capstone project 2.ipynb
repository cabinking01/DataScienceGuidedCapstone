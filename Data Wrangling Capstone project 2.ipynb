{
 "cells": [
  {
   "attachments": {},
   "cell_type": "markdown",
   "id": "43cc81be",
   "metadata": {},
   "source": [
    "# 1. Introduction\n",
    "#In this step, I will focus on collecting data, organizing it, and making sure it's well defined.\n",
    "#I will also be doing some cleaning but must be careful not to do too much cleaning before I explore the enitre data\n",
    "#to better understand it."
   ]
  },
  {
   "attachments": {},
   "cell_type": "markdown",
   "id": "705774c9",
   "metadata": {},
   "source": [
    "# Importing libraries \n"
   ]
  },
  {
   "cell_type": "code",
   "execution_count": 1,
   "id": "8e2b45bc",
   "metadata": {
    "scrolled": true
   },
   "outputs": [
    {
     "name": "stdout",
     "output_type": "stream",
     "text": [
      "Requirement already satisfied: gensim in c:\\users\\geral\\new folder\\lib\\site-packages (4.3.1)\n",
      "Requirement already satisfied: numpy>=1.18.5 in c:\\users\\geral\\new folder\\lib\\site-packages (from gensim) (1.23.5)\n",
      "Requirement already satisfied: smart-open>=1.8.1 in c:\\users\\geral\\new folder\\lib\\site-packages (from gensim) (5.2.1)\n",
      "Requirement already satisfied: scipy>=1.7.0 in c:\\users\\geral\\new folder\\lib\\site-packages (from gensim) (1.10.0)\n",
      "Requirement already satisfied: keras in c:\\users\\geral\\new folder\\lib\\site-packages (2.12.0)\n",
      "Requirement already satisfied: pandas in c:\\users\\geral\\new folder\\lib\\site-packages (2.0.2)\n",
      "Requirement already satisfied: numpy>=1.21.0 in c:\\users\\geral\\new folder\\lib\\site-packages (from pandas) (1.23.5)\n",
      "Requirement already satisfied: pytz>=2020.1 in c:\\users\\geral\\new folder\\lib\\site-packages (from pandas) (2022.7)\n",
      "Requirement already satisfied: tzdata>=2022.1 in c:\\users\\geral\\new folder\\lib\\site-packages (from pandas) (2023.3)\n",
      "Requirement already satisfied: python-dateutil>=2.8.2 in c:\\users\\geral\\new folder\\lib\\site-packages (from pandas) (2.8.2)\n",
      "Requirement already satisfied: six>=1.5 in c:\\users\\geral\\new folder\\lib\\site-packages (from python-dateutil>=2.8.2->pandas) (1.16.0)\n"
     ]
    }
   ],
   "source": [
    "# This Python 3 environment comes with many helpful analytics libraries installed\n",
    "# It is defined by the kaggle/python Docker image: https://github.com/kaggle/docker-python\n",
    "\n",
    "import numpy as np # linear algebra\n",
    "import pandas as pd # data processing, CSV file I/O (e.g. pd.read_csv)\n",
    "import re\n",
    "import json\n",
    "\n",
    "import os\n",
    "import matplotlib.pyplot as plt\n",
    "import seaborn as sns\n",
    "%matplotlib inline\n",
    "\n",
    "!pip install emoji --upgrade\n",
    "import emoji\n",
    "\n",
    "!pip install tweet-preprocessor\n",
    "import preprocessor as p\n",
    "\n",
    "# !pip install -U spacy\n",
    "# !pip install texthero\n",
    "# import texthero as hero\n",
    "\n",
    "!pip install transformers\n",
    "from transformers import AutoTokenizer, AutoModelForSequenceClassification\n",
    "from transformers import BertTokenizer, TFBertForSequenceClassification\n",
    "from transformers import InputExample, InputFeatures\n",
    "\n",
    "from wordcloud import WordCloud, STOPWORDS, ImageColorGenerator"
   ]
  },
  {
   "attachments": {},
   "cell_type": "markdown",
   "id": "0f1604b5",
   "metadata": {},
   "source": [
    "# Load the twitter data from Kaggle\n"
   ]
  },
  {
   "cell_type": "code",
   "execution_count": null,
   "id": "ef7aee7f",
   "metadata": {},
   "outputs": [],
   "source": [
    "all_files = []\n",
    "for dirname, _, filenames in os.walk('/kaggle/input'):\n",
    "    for filename in filenames:\n",
    "        full_path=os.path.join(dirname, filename)\n",
    "        all_files.append(full_path)"
   ]
  },
  {
   "cell_type": "code",
   "execution_count": null,
   "id": "d995a471",
   "metadata": {},
   "outputs": [],
   "source": [
    "# sort the files\n",
    "all_files.sort()"
   ]
  },
  {
   "cell_type": "code",
   "execution_count": null,
   "id": "4b841479",
   "metadata": {},
   "outputs": [],
   "source": [
    "# fetch all February files - filenames containing \"FEB\" or \"202202\"\n",
    "feb_files = [file for file in all_files if re.search(r\"FEB\", file) or re.search(r\"202202\", file)]\n",
    "feb_files"
   ]
  },
  {
   "cell_type": "code",
   "execution_count": null,
   "id": "42c4cf48",
   "metadata": {},
   "outputs": [],
   "source": [
    "tmp_df_list = []\n",
    "for file in feb_files:\n",
    "    print(f\"Reading in {file}\")\n",
    "    # unzip and read in the csv file as a dataframe\n",
    "    tmp_df = pd.read_csv(file, compression=\"gzip\", header=0, index_col=0)\n",
    "    # append dataframe to temp list\n",
    "    tmp_df_list.append(tmp_df)\n",
    "\n",
    "print(\"Concatenating the DataFrames\")\n",
    "# concatenate the dataframes in the temp list row-wise\n",
    "feb_df= pd.concat(tmp_df_list, axis=0)\n",
    "print(\"Concatenation complete!\")"
   ]
  },
  {
   "attachments": {},
   "cell_type": "markdown",
   "id": "98dac478",
   "metadata": {},
   "source": [
    "# Explore the data"
   ]
  },
  {
   "cell_type": "code",
   "execution_count": null,
   "id": "9f23a2f0",
   "metadata": {},
   "outputs": [],
   "source": [
    "#Call the info method on ski_data to see a summary of the data\n",
    "feb_files.info"
   ]
  }
 ],
 "metadata": {
  "kernelspec": {
   "display_name": "Python 3 (ipykernel)",
   "language": "python",
   "name": "python3"
  },
  "language_info": {
   "codemirror_mode": {
    "name": "ipython",
    "version": 3
   },
   "file_extension": ".py",
   "mimetype": "text/x-python",
   "name": "python",
   "nbconvert_exporter": "python",
   "pygments_lexer": "ipython3",
   "version": "3.10.9"
  }
 },
 "nbformat": 4,
 "nbformat_minor": 5
}
