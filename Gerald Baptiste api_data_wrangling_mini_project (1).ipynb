{
 "cells": [
  {
   "attachments": {},
   "cell_type": "markdown",
   "metadata": {},
   "source": [
    "This exercise will require you to pull some data from the Qunadl API. Qaundl is currently the most widely used aggregator of financial market data."
   ]
  },
  {
   "attachments": {},
   "cell_type": "markdown",
   "metadata": {},
   "source": [
    "As a first step, you will need to register a free account on the http://www.quandl.com website."
   ]
  },
  {
   "attachments": {},
   "cell_type": "markdown",
   "metadata": {},
   "source": [
    "After you register, you will be provided with a unique API key, that you should store:"
   ]
  },
  {
   "cell_type": "code",
   "execution_count": 3,
   "metadata": {},
   "outputs": [],
   "source": [
    "# Store the API key as a string - according to PEP8, constants are always named in all upper case\n",
    "API_KEY = 'Zyzaf4cr2aDytmb_ryWM'"
   ]
  },
  {
   "attachments": {},
   "cell_type": "markdown",
   "metadata": {},
   "source": [
    "Qaundl has a large number of data sources, but, unfortunately, most of them require a Premium subscription. Still, there are also a good number of free datasets."
   ]
  },
  {
   "attachments": {},
   "cell_type": "markdown",
   "metadata": {},
   "source": [
    "For this mini project, we will focus on equities data from the Frankfurt Stock Exhange (FSE), which is available for free. We'll try and analyze the stock prices of a company called Carl Zeiss Meditec, which manufactures tools for eye examinations, as well as medical lasers for laser eye surgery: https://www.zeiss.com/meditec/int/home.html. The company is listed under the stock ticker AFX_X."
   ]
  },
  {
   "attachments": {},
   "cell_type": "markdown",
   "metadata": {},
   "source": [
    "You can find the detailed Quandl API instructions here: https://docs.quandl.com/docs/time-series"
   ]
  },
  {
   "attachments": {},
   "cell_type": "markdown",
   "metadata": {},
   "source": [
    "While there is a dedicated Python package for connecting to the Quandl API, we would prefer that you use the *requests* package, which can be easily downloaded using *pip* or *conda*. You can find the documentation for the package here: http://docs.python-requests.org/en/master/ "
   ]
  },
  {
   "attachments": {},
   "cell_type": "markdown",
   "metadata": {},
   "source": [
    "Finally, apart from the *requests* package, you are encouraged to not use any third party Python packages, such as *pandas*, and instead focus on what's available in the Python Standard Library (the *collections* module might come in handy: https://pymotw.com/3/collections/).\n",
    "Also, since you won't have access to DataFrames, you are encouraged to us Python's native data structures - preferably dictionaries, though some questions can also be answered using lists.\n",
    "You can read more on these data structures here: https://docs.python.org/3/tutorial/datastructures.html"
   ]
  },
  {
   "attachments": {},
   "cell_type": "markdown",
   "metadata": {},
   "source": [
    "Keep in mind that the JSON responses you will be getting from the API map almost one-to-one to Python's dictionaries. Unfortunately, they can be very nested, so make sure you read up on indexing dictionaries in the documentation provided above."
   ]
  },
  {
   "cell_type": "code",
   "execution_count": 4,
   "metadata": {},
   "outputs": [],
   "source": [
    "# First, import the relevant modules\n",
    "import requests\n"
   ]
  },
  {
   "cell_type": "code",
   "execution_count": 5,
   "metadata": {},
   "outputs": [],
   "source": [
    "# Now, call the Quandl API and pull out a small sample of the data (only one day) to get a glimpse\n",
    "# into the JSON structure that will be returned\n",
    "#url = \"https://www.quandl.com/api/v3/datasets/FSE/AFX_X.json?api_key=API_KEY&start_date=2017-01-01&end_date=2017-01-02\"\n",
    "\n",
    "url_test = \"https://www.quandl.com/api/v3/datasets/FSE/AFX_X/data.json?\" + \\\n",
    "      \"&start_date=2017-01-01&end_date=2017-01-02&api_key=\" + 'Zyzaf4cr2aDytmb_ryWM'\n",
    "req_test = requests.get(url_test)"
   ]
  },
  {
   "cell_type": "code",
   "execution_count": 4,
   "metadata": {},
   "outputs": [
    {
     "data": {
      "text/plain": [
       "'{\"dataset_data\":{\"limit\":null,\"transform\":null,\"column_index\":null,\"column_names\":[\"Date\",\"Open\",\"High\",\"Low\",\"Close\",\"Change\",\"Traded Volume\",\"Turnover\",\"Last Price of the Day\",\"Daily Traded Units\",\"Daily Turnover\"],\"start_date\":\"2017-01-01\",\"end_date\":\"2017-01-02\",\"frequency\":\"daily\",\"data\":[[\"2017-01-02\",34.99,35.94,34.99,35.8,null,44700.0,1590561.0,null,null,null]],\"collapse\":null,\"order\":null}}'"
      ]
     },
     "execution_count": 4,
     "metadata": {},
     "output_type": "execute_result"
    }
   ],
   "source": [
    "# Inspect the JSON structure of the object you created, and take note of how nested it is,\n",
    "# as well as the overall structure\n",
    "req_test.text"
   ]
  },
  {
   "attachments": {},
   "cell_type": "markdown",
   "metadata": {},
   "source": [
    "These are your tasks for this mini project:\n",
    "\n",
    "1. Collect data from the Franfurt Stock Exchange, for the ticker AFX_X, for the whole year 2017 (keep in mind that the date format is YYYY-MM-DD).\n",
    "2. Convert the returned JSON object into a Python dictionary.\n",
    "3. Calculate what the highest and lowest opening prices were for the stock in this period.\n",
    "4. What was the largest change in any one day (based on High and Low price)?\n",
    "5. What was the largest change between any two days (based on Closing Price)?\n",
    "6. What was the average daily trading volume during this year?\n",
    "7. (Optional) What was the median trading volume during this year. (Note: you may need to implement your own function for calculating the median.)"
   ]
  },
  {
   "attachments": {},
   "cell_type": "markdown",
   "metadata": {},
   "source": [
    "Question 1:\n",
    "Collect data from the Franfurt Stock Exchange, for the ticker AFX_X, for the whole year 2017 (keep in mind that the date format is YYYY-MM-DD)."
   ]
  },
  {
   "cell_type": "code",
   "execution_count": 6,
   "metadata": {},
   "outputs": [],
   "source": [
    "#url = \"https://www.quandl.com/api/v3/datasets/FSE/AFX_X/data.json?&limit=1&api_key=\" + API_KEY + \"&start_date=2017-01-01&end_date=2017-12-31\"\n",
    "url = \"https://www.quandl.com/api/v3/datasets/FSE/AFX_X/data.json?\" + \\\n",
    "      \"&start_date=2017-01-01&end_date=2017-12-31&api_key=\" + 'Zyzaf4cr2aDytmb_ryWM'\n",
    "req = requests.get(url)"
   ]
  },
  {
   "attachments": {},
   "cell_type": "markdown",
   "metadata": {},
   "source": [
    "Question 2:\n",
    "Convert the returned JSON object into a Python dictionary."
   ]
  },
  {
   "cell_type": "code",
   "execution_count": 7,
   "metadata": {},
   "outputs": [],
   "source": [
    "json_data = req.json()"
   ]
  },
  {
   "cell_type": "code",
   "execution_count": 8,
   "metadata": {},
   "outputs": [
    {
     "data": {
      "text/html": [
       "<div>\n",
       "<style scoped>\n",
       "    .dataframe tbody tr th:only-of-type {\n",
       "        vertical-align: middle;\n",
       "    }\n",
       "\n",
       "    .dataframe tbody tr th {\n",
       "        vertical-align: top;\n",
       "    }\n",
       "\n",
       "    .dataframe thead th {\n",
       "        text-align: right;\n",
       "    }\n",
       "</style>\n",
       "<table border=\"1\" class=\"dataframe\">\n",
       "  <thead>\n",
       "    <tr style=\"text-align: right;\">\n",
       "      <th></th>\n",
       "      <th>Date</th>\n",
       "      <th>Open</th>\n",
       "      <th>High</th>\n",
       "      <th>Low</th>\n",
       "      <th>Close</th>\n",
       "      <th>Change</th>\n",
       "      <th>Traded Volume</th>\n",
       "      <th>Turnover</th>\n",
       "      <th>Last Price of the Day</th>\n",
       "      <th>Daily Traded Units</th>\n",
       "      <th>Daily Turnover</th>\n",
       "    </tr>\n",
       "  </thead>\n",
       "  <tbody>\n",
       "    <tr>\n",
       "      <th>0</th>\n",
       "      <td>2017-12-29</td>\n",
       "      <td>51.76</td>\n",
       "      <td>51.94</td>\n",
       "      <td>51.45</td>\n",
       "      <td>51.76</td>\n",
       "      <td>NaN</td>\n",
       "      <td>34640.0</td>\n",
       "      <td>1792304.0</td>\n",
       "      <td>None</td>\n",
       "      <td>None</td>\n",
       "      <td>None</td>\n",
       "    </tr>\n",
       "    <tr>\n",
       "      <th>1</th>\n",
       "      <td>2017-12-28</td>\n",
       "      <td>51.65</td>\n",
       "      <td>51.82</td>\n",
       "      <td>51.43</td>\n",
       "      <td>51.60</td>\n",
       "      <td>NaN</td>\n",
       "      <td>40660.0</td>\n",
       "      <td>2099024.0</td>\n",
       "      <td>None</td>\n",
       "      <td>None</td>\n",
       "      <td>None</td>\n",
       "    </tr>\n",
       "    <tr>\n",
       "      <th>2</th>\n",
       "      <td>2017-12-27</td>\n",
       "      <td>51.45</td>\n",
       "      <td>51.89</td>\n",
       "      <td>50.76</td>\n",
       "      <td>51.82</td>\n",
       "      <td>NaN</td>\n",
       "      <td>57452.0</td>\n",
       "      <td>2957018.0</td>\n",
       "      <td>None</td>\n",
       "      <td>None</td>\n",
       "      <td>None</td>\n",
       "    </tr>\n",
       "    <tr>\n",
       "      <th>3</th>\n",
       "      <td>2017-12-22</td>\n",
       "      <td>51.05</td>\n",
       "      <td>51.50</td>\n",
       "      <td>50.92</td>\n",
       "      <td>51.32</td>\n",
       "      <td>NaN</td>\n",
       "      <td>71165.0</td>\n",
       "      <td>3641949.0</td>\n",
       "      <td>None</td>\n",
       "      <td>None</td>\n",
       "      <td>None</td>\n",
       "    </tr>\n",
       "    <tr>\n",
       "      <th>4</th>\n",
       "      <td>2017-12-21</td>\n",
       "      <td>51.16</td>\n",
       "      <td>51.52</td>\n",
       "      <td>50.90</td>\n",
       "      <td>51.40</td>\n",
       "      <td>NaN</td>\n",
       "      <td>120649.0</td>\n",
       "      <td>6179433.0</td>\n",
       "      <td>None</td>\n",
       "      <td>None</td>\n",
       "      <td>None</td>\n",
       "    </tr>\n",
       "  </tbody>\n",
       "</table>\n",
       "</div>"
      ],
      "text/plain": [
       "         Date   Open   High    Low  Close  Change  Traded Volume   Turnover  \\\n",
       "0  2017-12-29  51.76  51.94  51.45  51.76     NaN        34640.0  1792304.0   \n",
       "1  2017-12-28  51.65  51.82  51.43  51.60     NaN        40660.0  2099024.0   \n",
       "2  2017-12-27  51.45  51.89  50.76  51.82     NaN        57452.0  2957018.0   \n",
       "3  2017-12-22  51.05  51.50  50.92  51.32     NaN        71165.0  3641949.0   \n",
       "4  2017-12-21  51.16  51.52  50.90  51.40     NaN       120649.0  6179433.0   \n",
       "\n",
       "  Last Price of the Day Daily Traded Units Daily Turnover  \n",
       "0                  None               None           None  \n",
       "1                  None               None           None  \n",
       "2                  None               None           None  \n",
       "3                  None               None           None  \n",
       "4                  None               None           None  "
      ]
     },
     "execution_count": 8,
     "metadata": {},
     "output_type": "execute_result"
    }
   ],
   "source": [
    "#Pandas DataFrame to verify the table\n",
    "import pandas as pd\n",
    "data_cols = json_data[\"dataset_data\"][\"column_names\"]\n",
    "data_rows = json_data[\"dataset_data\"][\"data\"]\n",
    "df = pd.DataFrame(data_rows, columns=data_cols)\n",
    "df.head()"
   ]
  },
  {
   "attachments": {},
   "cell_type": "markdown",
   "metadata": {},
   "source": [
    "Question 3: Calculate what the highest and lowest opening prices were for the stock in this period."
   ]
  },
  {
   "cell_type": "code",
   "execution_count": 9,
   "metadata": {},
   "outputs": [
    {
     "name": "stdout",
     "output_type": "stream",
     "text": [
      "Highest opening price in 2017 was $53.11 and lowest opening price in 2017 was $34.00.\n"
     ]
    }
   ],
   "source": [
    "open_max=0.0\n",
    "open_min=float(\"inf\")\n",
    "for row in json_data[\"dataset_data\"][\"data\"]:\n",
    "    if row[1] != None:\n",
    "       if row[1] > open_max:\n",
    "          open_max = row[1]\n",
    "       if row[1] < open_min:\n",
    "          open_min = row[1]\n",
    "print(\"Highest opening price in 2017 was ${0:.2f} and lowest opening price in 2017 was ${1:.2f}.\" \\\n",
    "      .format(round(open_max, 2), round(open_min, 2)))\n"
   ]
  },
  {
   "attachments": {},
   "cell_type": "markdown",
   "metadata": {},
   "source": [
    "Question 4: What was the largest change in any one day (based on High and Low price)?"
   ]
  },
  {
   "cell_type": "code",
   "execution_count": 10,
   "metadata": {},
   "outputs": [
    {
     "name": "stdout",
     "output_type": "stream",
     "text": [
      "The largest change in any one day in 2017 was $2.81.\n"
     ]
    }
   ],
   "source": [
    "diff_max=0.0\n",
    "for row in json_data[\"dataset_data\"][\"data\"]:\n",
    "    if row[1] != None:\n",
    "       if row[2]-row[3] > diff_max:\n",
    "          diff_max = row[2]-row[3]\n",
    "print(\"The largest change in any one day in 2017 was ${0:.2f}.\" .format(round(diff_max, 2)))           "
   ]
  },
  {
   "attachments": {},
   "cell_type": "markdown",
   "metadata": {},
   "source": [
    "Question 5: What was the largest change between any two days (based on Closing Price)?"
   ]
  },
  {
   "cell_type": "code",
   "execution_count": 11,
   "metadata": {},
   "outputs": [
    {
     "name": "stdout",
     "output_type": "stream",
     "text": [
      "The largest change between any two days (based on Closing Price) was $2.56 on 2017-08-08 .\n"
     ]
    }
   ],
   "source": [
    "day_diff_max = {}\n",
    "close_early =  json_data[\"dataset_data\"][\"data\"][0][4]\n",
    "\n",
    "for row in json_data[\"dataset_data\"][\"data\"][1:]:\n",
    "    close = row[4]\n",
    "    day_diff_max[row[0]] = abs(close_early - close)\n",
    "    close_early = close\n",
    "\n",
    "day_diff_max_date, day_diff_max_value = max(day_diff_max.items(), key=lambda k:k[1])\n",
    "print(\"The largest change between any two days (based on Closing Price) was ${0:.2f} on {1} .\" \\\n",
    "      .format(round(day_diff_max_value, 2), (day_diff_max_date)))"
   ]
  },
  {
   "attachments": {},
   "cell_type": "markdown",
   "metadata": {},
   "source": [
    "Question 6: What was the average daily trading volume during this year?"
   ]
  },
  {
   "cell_type": "code",
   "execution_count": 13,
   "metadata": {},
   "outputs": [
    {
     "name": "stdout",
     "output_type": "stream",
     "text": [
      "The average daily trading volume was $89124.34 in 2017 .\n"
     ]
    }
   ],
   "source": [
    "vol_trd= [row[6] for row in json_data[\"dataset_data\"][\"data\"]]\n",
    "avg = sum(vol_trd) / len(vol_trd)\n",
    "print(\"The average daily trading volume was ${0:.2f} in 2017 .\" .format(round(avg, 2)))"
   ]
  },
  {
   "attachments": {},
   "cell_type": "markdown",
   "metadata": {},
   "source": [
    "Question 7: (Optional) What was the median trading volume during this year. (Note: you may need to implement your own function for calculating the median.)"
   ]
  },
  {
   "cell_type": "code",
   "execution_count": 14,
   "metadata": {},
   "outputs": [
    {
     "name": "stdout",
     "output_type": "stream",
     "text": [
      "The median trading volume was $76286.00 in 2017 .\n"
     ]
    }
   ],
   "source": [
    "vol_trd= [row[6] for row in json_data[\"dataset_data\"][\"data\"]]\n",
    "vol_sorted = sorted(vol_trd) # in ascending order\n",
    "n=len(vol_sorted)\n",
    "if n % 2 != 0:\n",
    "    vol_median = vol_sorted[n // 2]\n",
    "else:\n",
    "    vol_median = (vol_sorted[n // 2 - 1] + vol_sorted[n // 2]) / 2\n",
    "\n",
    "print(\"The median trading volume was ${0:.2f} in 2017 .\" .format(round(vol_median, 2)))"
   ]
  }
 ],
 "metadata": {
  "kernelspec": {
   "display_name": "Python 3 (ipykernel)",
   "language": "python",
   "name": "python3"
  },
  "language_info": {
   "codemirror_mode": {
    "name": "ipython",
    "version": 3
   },
   "file_extension": ".py",
   "mimetype": "text/x-python",
   "name": "python",
   "nbconvert_exporter": "python",
   "pygments_lexer": "ipython3",
   "version": "3.10.9"
  }
 },
 "nbformat": 4,
 "nbformat_minor": 2
}
